{
 "cells": [
  {
   "cell_type": "code",
   "execution_count": 48,
   "metadata": {},
   "outputs": [
    {
     "data": {
      "image/png": "[encoded data removed]",
      "text/plain": [
       "<Figure size 640x480 with 1 Axes>"
      ]
     },
     "metadata": {},
     "output_type": "display_data"
    }
   ],
   "source": [
    "from google.cloud import aiplatform\n",
    "from tensorflow.keras.datasets import mnist\n",
    "import numpy as np\n",
    "from scripts.helper import preprocess_data\n",
    "import matplotlib.pyplot as plt\n",
    "\n",
    "(x_train, labels_train), (x_test, labels_test) = mnist.load_data()\n",
    "x_train, y_train, x_test, y_test = preprocess_data(x_train, labels_train, x_test, labels_test)\n",
    "\n",
    "PROJECT_NUMBER=''\n",
    "ENDPOINT_ID=''\n",
    "endpoint = aiplatform.Endpoint(endpoint_name=f\"projects/{PROJECT_NUMBER}/locations/us-central1/endpoints/{ENDPOINT_ID}\")\n",
    "\n",
    "import random\n",
    " \n",
    "random_index = random.randint(0, len(x_test))\n",
    "image = x_test[random_index,:,:]\n",
    "x_test_list = np.asarray(np.expand_dims(image, axis=0)).astype(np.float32).tolist()\n",
    "pred = endpoint.predict(instances=x_test_list).predictions\n",
    "\n",
    "plt.title(f'Prediction: {np.argmax(pred)}')\n",
    "plt.imshow(image, cmap='gray')\n",
    "plt.axis('off')\n",
    "plt.show()"
   ]
  }
 ],
 "metadata": {
  "kernelspec": {
   "display_name": "Python 3",
   "language": "python",
   "name": "python3"
  },
  "language_info": {
   "codemirror_mode": {
    "name": "ipython",
    "version": 3
   },
   "file_extension": ".py",
   "mimetype": "text/x-python",
   "name": "python",
   "nbconvert_exporter": "python",
   "pygments_lexer": "ipython3",
   "version": "3.11.0"
  }
 },
 "nbformat": 4,
 "nbformat_minor": 2
}
